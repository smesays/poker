{
 "cells": [
  {
   "cell_type": "code",
   "execution_count": 1,
   "metadata": {
    "collapsed": true
   },
   "outputs": [],
   "source": [
    "from torch.utils.data import Dataset, DataLoader"
   ]
  },
  {
   "cell_type": "code",
   "execution_count": 2,
   "metadata": {
    "collapsed": true
   },
   "outputs": [],
   "source": [
    "import torch\n",
    "import torch.nn as nn\n",
    "from torch.autograd import Variable\n",
    "import numpy as np\n",
    "import matplotlib.pyplot as plt\n",
    "import matplotlib.cm as cm\n",
    "\n",
    "%matplotlib inline"
   ]
  },
  {
   "cell_type": "markdown",
   "metadata": {},
   "source": [
    "### Functions and Classes"
   ]
  },
  {
   "cell_type": "code",
   "execution_count": 3,
   "metadata": {
    "collapsed": true
   },
   "outputs": [],
   "source": [
    "def load_dataset(txt_filepath):\n",
    "    \"\"\"Loads a toy dataset from a text file.\n",
    "    \n",
    "    Args:\n",
    "        txt_filepath: file path to the text file containing the dataset\n",
    "    Returns:\n",
    "        data: NxD ndarray, where N is the number of samples in the dataset and D is the dimension of each sample \n",
    "        target: N-dimensional vector, where N is the number of samples in the dataset\n",
    "    \"\"\"\n",
    "    coords_x,coords_y,labels = np.loadtxt(txt_filepath).T\n",
    "    data = np.array([coords_x,coords_y]).T\n",
    "    # labels should starts from 0\n",
    "    target = labels - 1 \n",
    "    return data, target"
   ]
  },
  {
   "cell_type": "code",
   "execution_count": 4,
   "metadata": {
    "collapsed": true
   },
   "outputs": [],
   "source": [
    "def visualize_toy_dataset(data, target):\n",
    "    \"\"\"Plots a 2D toy dataset with 3 classes.\n",
    "    \n",
    "    Args:\n",
    "        data: NxD ndarray, where N is the number of samples in the dataset and D is the dimension of each sample \n",
    "        target: N-dimensional vector, where N is the number of samples in the dataset\n",
    "    \"\"\"\n",
    "    n = data.shape[0]\n",
    "    for i in range(0, n):\n",
    "        if target[i] == 0:\n",
    "            plt.plot(data[i, 0], data[i, 1], 'ro')\n",
    "        elif target[i] == 1:\n",
    "            plt.plot(data[i, 0], data[i, 1], 'go')\n",
    "        else:\n",
    "            plt.plot(data[i, 0], data[i, 1], 'bo')"
   ]
  },
  {
   "cell_type": "code",
   "execution_count": 5,
   "metadata": {
    "collapsed": true
   },
   "outputs": [],
   "source": [
    "def create_grid_coords(N=50):\n",
    "    \"\"\" Creates a 2D grid centered on the origin with edge length 2. \n",
    "\n",
    "    Returns:\n",
    "        N^2x2 ndarray, where each row correspondes to a pair of coordinates in 2d space\n",
    "    \"\"\"\n",
    "    xx=-(1-2*np.array(range(0,N))/float(N-1))\n",
    "    grid_x, grid_y=np.meshgrid(xx,xx)\n",
    "    grid=np.stack([grid_x.flatten(), grid_y.flatten()], axis=1)\n",
    "    return grid"
   ]
  },
  {
   "cell_type": "code",
   "execution_count": 6,
   "metadata": {
    "collapsed": true
   },
   "outputs": [],
   "source": [
    "class ToyDataset(Dataset):\n",
    "    \"\"\" A toy dataset class which implements the abstract class torch.utils.data.Dataset .\n",
    "    (for reference see http://pytorch.org/docs/master/data.html#torch.utils.data.Dataset)\n",
    "    \"\"\"\n",
    "    def __init__(self, txt_filepath):\n",
    "        self.data, self.target = load_dataset(txt_filepath)\n",
    "    def __getitem__(self, index):\n",
    "        return self.data[index,:], self.target[index] \n",
    "    def __len__(self):\n",
    "        return self.data.shape[0]"
   ]
  },
  {
   "cell_type": "markdown",
   "metadata": {},
   "source": [
    "### Data Preparation"
   ]
  },
  {
   "cell_type": "code",
   "execution_count": 7,
   "metadata": {
    "collapsed": true
   },
   "outputs": [],
   "source": [
    "datasets = ['triple_junction', 'spiral']\n",
    "select_idx = 1\n",
    "datasets[select_idx]\n",
    "\n",
    "batch_size = 100"
   ]
  },
  {
   "cell_type": "code",
   "execution_count": 8,
   "metadata": {
    "collapsed": false
   },
   "outputs": [
    {
     "name": "stdout",
     "output_type": "stream",
     "text": [
      "trainset size: 300 testset size: 300\n"
     ]
    }
   ],
   "source": [
    "train_set = ToyDataset('./data/{}_data_training.txt'.format(datasets[select_idx]))\n",
    "train_loader = DataLoader(train_set, batch_size=batch_size, shuffle=True, num_workers=0)\n",
    "\n",
    "test_set = ToyDataset('./data/{}_data_test.txt'.format(datasets[select_idx]))\n",
    "test_loader = DataLoader(test_set, batch_size=batch_size, shuffle=False)\n",
    "\n",
    "print('trainset size: {} testset size: {}'.format(len(train_set), len(test_set)))"
   ]
  },
  {
   "cell_type": "code",
   "execution_count": 9,
   "metadata": {
    "collapsed": false
   },
   "outputs": [
    {
     "data": {
      "image/png": "[encoded data removed]",
      "text/plain": [
       "<matplotlib.figure.Figure at 0x7f8e0429bbd0>"
      ]
     },
     "metadata": {},
     "output_type": "display_data"
    }
   ],
   "source": [
    "visualize_toy_dataset(train_set.data, train_set.target)"
   ]
  },
  {
   "cell_type": "markdown",
   "metadata": {},
   "source": [
    "### Network Architecture"
   ]
  },
  {
   "cell_type": "code",
   "execution_count": 10,
   "metadata": {
    "collapsed": true
   },
   "outputs": [],
   "source": [
    "D_in, D_out = 2, 3\n",
    "H1, H2 = 20, 20\n",
    "\n",
    "model = nn.Sequential(\n",
    "          nn.Linear(D_in, H1),\n",
    "          nn.ReLU(),\n",
    "          nn.Linear(H1, H2),\n",
    "          nn.ReLU(),\n",
    "          nn.Linear(H2, D_out),\n",
    "        )\n",
    "\n",
    "# model = nn.Sequential(\n",
    "#           nn.Linear(D_in, D_out),\n",
    "#         )"
   ]
  },
  {
   "cell_type": "markdown",
   "metadata": {},
   "source": [
    "### Training"
   ]
  },
  {
   "cell_type": "code",
   "execution_count": 11,
   "metadata": {
    "collapsed": true
   },
   "outputs": [],
   "source": [
    "#criterion = nn.MSELoss(size_average=False)\n",
    "criterion = nn.CrossEntropyLoss()\n",
    "\n",
    "learning_rate = 0.01\n",
    "optimizer = torch.optim.Adam(model.parameters(), lr=learning_rate)"
   ]
  },
  {
   "cell_type": "code",
   "execution_count": 12,
   "metadata": {
    "collapsed": false
   },
   "outputs": [
    {
     "name": "stdout",
     "output_type": "stream",
     "text": [
      "train: epoch 0 | loss 1.09847482045 | accuracy 0.473\n",
      "test: epoch 0 | loss 1.06612042586 | accuracy 0.503\n",
      "train: epoch 5 | loss 0.854556322098 | accuracy 0.537\n",
      "test: epoch 5 | loss 0.800809860229 | accuracy 0.57\n",
      "train: epoch 10 | loss 0.676724831263 | accuracy 0.563\n",
      "test: epoch 10 | loss 0.625714798768 | accuracy 0.637\n",
      "train: epoch 15 | loss 0.569571812948 | accuracy 0.647\n",
      "test: epoch 15 | loss 0.51827382048 | accuracy 0.703\n",
      "train: epoch 20 | loss 0.435148835182 | accuracy 0.81\n",
      "test: epoch 20 | loss 0.3952584366 | accuracy 0.84\n",
      "train: epoch 25 | loss 0.296600391467 | accuracy 0.923\n",
      "test: epoch 25 | loss 0.275745530923 | accuracy 0.91\n",
      "train: epoch 30 | loss 0.201254487038 | accuracy 0.947\n",
      "test: epoch 30 | loss 0.194608082374 | accuracy 0.937\n",
      "train: epoch 35 | loss 0.14056212455 | accuracy 0.97\n",
      "test: epoch 35 | loss 0.14370928208 | accuracy 0.96\n",
      "train: epoch 40 | loss 0.102406991025 | accuracy 0.987\n",
      "test: epoch 40 | loss 0.114281351368 | accuracy 0.97\n",
      "train: epoch 45 | loss 0.0791878141463 | accuracy 0.997\n",
      "test: epoch 45 | loss 0.092598117888 | accuracy 0.983\n",
      "train: epoch 50 | loss 0.0623066661259 | accuracy 0.993\n",
      "test: epoch 50 | loss 0.0722650860747 | accuracy 0.983\n",
      "train: epoch 55 | loss 0.0497869054476 | accuracy 1.0\n",
      "test: epoch 55 | loss 0.0604404384891 | accuracy 0.993\n",
      "train: epoch 60 | loss 0.041348905613 | accuracy 1.0\n",
      "test: epoch 60 | loss 0.0534306056798 | accuracy 0.993\n",
      "train: epoch 65 | loss 0.034670330584 | accuracy 1.0\n",
      "test: epoch 65 | loss 0.046337204054 | accuracy 0.993\n",
      "train: epoch 70 | loss 0.0308743150284 | accuracy 1.0\n",
      "test: epoch 70 | loss 0.0435757127901 | accuracy 0.993\n",
      "train: epoch 75 | loss 0.0277166763941 | accuracy 1.0\n",
      "test: epoch 75 | loss 0.0368191227317 | accuracy 0.997\n",
      "train: epoch 80 | loss 0.0238647169123 | accuracy 1.0\n",
      "test: epoch 80 | loss 0.0335873905569 | accuracy 0.997\n",
      "train: epoch 85 | loss 0.0213130755971 | accuracy 1.0\n",
      "test: epoch 85 | loss 0.02891936029 | accuracy 0.997\n",
      "train: epoch 90 | loss 0.019601078704 | accuracy 1.0\n",
      "test: epoch 90 | loss 0.0280929387858 | accuracy 0.997\n",
      "train: epoch 95 | loss 0.0176849359026 | accuracy 1.0\n",
      "test: epoch 95 | loss 0.0240543279797 | accuracy 0.997\n",
      "train: epoch 100 | loss 0.0164506540944 | accuracy 1.0\n",
      "test: epoch 100 | loss 0.021162017559 | accuracy 1.0\n"
     ]
    }
   ],
   "source": [
    "for epoch in range(101):\n",
    "    # training one epoch\n",
    "    model.train()\n",
    "    \n",
    "    running_loss = 0.0\n",
    "    running_correct = 0.0\n",
    "    for batch_x, batch_y in train_loader:\n",
    "        \n",
    "        # Wrap inputs in Variable\n",
    "        batch_x = Variable(batch_x.type(torch.FloatTensor))\n",
    "        batch_y = Variable(batch_y.type(torch.LongTensor))\n",
    "    \n",
    "        # Forward pass: compute predicted y by passing x to the model.\n",
    "        y_pred = model(batch_x)\n",
    "\n",
    "        # Compute and print loss.\n",
    "        loss = criterion(y_pred, batch_y)\n",
    "        \n",
    "        # Collect training stats\n",
    "        _, preds = torch.max(y_pred.data, 1)\n",
    "        running_loss += loss.data[0]\n",
    "        running_correct += torch.sum(preds == batch_y.data)\n",
    "\n",
    "        # Before the backward pass, use the optimizer object to zero all of the\n",
    "        # gradients for the variables it will update (which are the learnable weights\n",
    "        # of the model)\n",
    "        optimizer.zero_grad()\n",
    "\n",
    "        # Backward pass: compute gradient of the loss with respect to model parameters\n",
    "        loss.backward()\n",
    "\n",
    "        # Calling the step function on an Optimizer makes an update to its parameters\n",
    "        optimizer.step()\n",
    "    if epoch % 5 == 0:\n",
    "        print(\"train: epoch {} | loss {} | accuracy {:.3}\".format(epoch, running_loss/(len(train_set)/batch_size), running_correct/len(train_set)))\n",
    "    \n",
    "    # testing every epoch\n",
    "    model.eval()\n",
    "    \n",
    "    running_loss = 0.0\n",
    "    running_correct = 0.0\n",
    "    for batch_x, batch_y in test_loader:\n",
    "        batch_x = Variable(batch_x.type(torch.FloatTensor))\n",
    "        batch_y = Variable(batch_y.type(torch.LongTensor))\n",
    "\n",
    "        # Forward pass: compute predicted y by passing x to the model.\n",
    "        y_pred = model(batch_x)\n",
    "\n",
    "        # Compute and print loss.\n",
    "        loss = criterion(y_pred, batch_y)            \n",
    "        # Collect training stats\n",
    "        _, preds = torch.max(y_pred.data, 1)\n",
    "        running_loss += loss.data[0]\n",
    "        running_correct += torch.sum(preds == batch_y.data)\n",
    "    if epoch % 5 == 0:\n",
    "        print(\"test: epoch {} | loss {} | accuracy {:.3}\".format(epoch, running_loss/(len(test_set)/batch_size), running_correct/len(test_set)))                "
   ]
  },
  {
   "cell_type": "markdown",
   "metadata": {},
   "source": [
    "### Visualize Results"
   ]
  },
  {
   "cell_type": "code",
   "execution_count": 13,
   "metadata": {
    "collapsed": false
   },
   "outputs": [
    {
     "data": {
      "image/png": "[encoded data removed]",
      "text/plain": [
       "<matplotlib.figure.Figure at 0x7f8e0429b210>"
      ]
     },
     "metadata": {},
     "output_type": "display_data"
    }
   ],
   "source": [
    "# Create a grid\n",
    "N = 50\n",
    "grid = create_grid_coords(N)\n",
    "\n",
    "# Compute result\n",
    "result=model(Variable(torch.from_numpy(grid), volatile=True).type(torch.FloatTensor))\n",
    "result=result.data\n",
    "_, img = torch.max(result,1)\n",
    "\n",
    "# Visualize boundaries of trained model\n",
    "img = img.numpy()\n",
    "img=img.reshape(N,N);\n",
    "\n",
    "plt.figure(figsize=(8,8))\n",
    "plt.imshow(img, extent=(grid[:,0].min(),grid[:,0].max(),grid[:,1].max(),grid[:,1].min()),\n",
    "       interpolation='nearest', cmap=cm.gist_rainbow) \n",
    "\n",
    "\n",
    "visualize_toy_dataset(train_set.data, train_set.target)\n",
    "#plt.show()"
   ]
  },
  {
   "cell_type": "code",
   "execution_count": null,
   "metadata": {
    "collapsed": true
   },
   "outputs": [],
   "source": []
  },
  {
   "cell_type": "code",
   "execution_count": 14,
   "metadata": {
    "collapsed": true
   },
   "outputs": [],
   "source": [
    "### WITHOUT utils.data\n",
    "\n",
    "# train_x, train_y = load_dataset('./data/triple_junction_data_training.txt')\n",
    "# #train_x, train_y = load_dataset('./data/triple_junction_data_training.txt')\n",
    "\n",
    "# num_data = train_x.shape[0]  \n",
    "\n",
    "# print num_data\n",
    "# info('training data x',train_x)\n",
    "# info('training data y',train_y)\n",
    "\n",
    "\n",
    "# # shuffle dataset\n",
    "# shuffling = np.random.permutation(num_data)\n",
    "# train_y = train_y[shuffling]\n",
    "# train_x = train_x[shuffling, :]\n",
    "\n",
    "\n",
    "# for t in range(500):\n",
    "#     #select a batch \n",
    "#     batch_id = t % (train_y.shape[0]/batch_size)\n",
    "#     start = batch_id * batch_size\n",
    "#     end = (batch_id + 1) * batch_size\n",
    "#     batch_x = Variable(torch.from_numpy(train_x[start:end,:]).type(torch.FloatTensor))\n",
    "#     batch_y = Variable(torch.from_numpy(train_y[start:end]).type(torch.LongTensor))\n",
    "#     #print batch_id, start, end, batch_x.shape, batch_y.shape  \n",
    "    \n",
    "#     # Forward pass: compute predicted y by passing x to the model.\n",
    "#     y_pred = model(batch_x)\n",
    "\n",
    "#     # Compute and print loss.\n",
    "#     loss = criterion(y_pred, batch_y)\n",
    "#     if t % 50 == 1:\n",
    "#         print(t, loss.data[0])\n",
    "\n",
    "#     # Before the backward pass, use the optimizer object to zero all of the\n",
    "#     # gradients for the variables it will update (which are the learnable weights\n",
    "#     # of the model)\n",
    "#     optimizer.zero_grad()\n",
    "\n",
    "#     # Backward pass: compute gradient of the loss with respect to model parameters\n",
    "#     loss.backward()\n",
    "\n",
    "#     # Calling the step function on an Optimizer makes an update to its parameters\n",
    "#     optimizer.step()"
   ]
  },
  {
   "cell_type": "code",
   "execution_count": null,
   "metadata": {
    "collapsed": true
   },
   "outputs": [],
   "source": []
  }
 ],
 "metadata": {
  "kernelspec": {
   "display_name": "Python 2",
   "language": "python",
   "name": "python2"
  },
  "language_info": {
   "codemirror_mode": {
    "name": "ipython",
    "version": 2
   },
   "file_extension": ".py",
   "mimetype": "text/x-python",
   "name": "python",
   "nbconvert_exporter": "python",
   "pygments_lexer": "ipython2",
   "version": "2.7.13"
  }
 },
 "nbformat": 4,
 "nbformat_minor": 1
}
